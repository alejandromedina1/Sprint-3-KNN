{
 "cells": [
  {
   "cell_type": "code",
   "execution_count": 159,
   "id": "c78b9233",
   "metadata": {},
   "outputs": [],
   "source": [
    "import pandas as pd\n",
    "import numpy as np\n",
    "import ipywidgets as widgets\n",
    "from IPython.display import display\n",
    "import matplotlib.pyplot as plt"
   ]
  },
  {
   "cell_type": "code",
   "execution_count": 160,
   "id": "c5c7b72f",
   "metadata": {},
   "outputs": [
    {
     "name": "stdout",
     "output_type": "stream",
     "text": [
      "                                Carne Molida  Chorizo  Jamón  Pepperoni  \\\n",
      "Usuario                                                                   \n",
      "Tatiana Campos                             8        3      3          7   \n",
      "juan agredo                                3        7      9         10   \n",
      "Andrea Torrente                           10        8     10         10   \n",
      "Yajhaira Naranjo                           9        9      8          9   \n",
      "Juan Munera                               10       10     10         10   \n",
      "Valeria Jiménez                            4        1      7          9   \n",
      "Juan Andrés López                          7       10      6         10   \n",
      "Andres Felipe Narvaez Estrella             3        7     10         10   \n",
      "Luisa Tapiero                              7        9      9         10   \n",
      "Alejandro Medina                           7        7      9          6   \n",
      "NIcolas Orozco                             7        5      5          7   \n",
      "Christian Aparicio                         5        6     10         10   \n",
      "Juan Rodriguez                            10       10     10         10   \n",
      "Andrés Camilo Gómez Amaya                  9       10      9         10   \n",
      "Sebastian Mosquera                        10        7      9          9   \n",
      "Christian Castro                           8        8     10         10   \n",
      "Cristian guevara                           8        9     10         10   \n",
      "Isabella Pinzon                           10        2      7         10   \n",
      "Juan Bueno                                 2        7      7          9   \n",
      "Nicolas Penagos                            7        7      5         10   \n",
      "\n",
      "                                Pollo  Salami  Tocineta  Aceituna  Cebolla  \\\n",
      "Usuario                                                                      \n",
      "Tatiana Campos                     10       5         1         1        1   \n",
      "juan agredo                         8       9        10         1        7   \n",
      "Andrea Torrente                     8      10         7         1        5   \n",
      "Yajhaira Naranjo                    6       5        10        10        5   \n",
      "Juan Munera                        10      10        10         3        8   \n",
      "Valeria Jiménez                    10       6         3         5        8   \n",
      "Juan Andrés López                  10      10         9         9       10   \n",
      "Andres Felipe Narvaez Estrella      8      10         9         6        8   \n",
      "Luisa Tapiero                      10      10        10         3        2   \n",
      "Alejandro Medina                   10       9        10         2        3   \n",
      "NIcolas Orozco                      8       7        10         6        6   \n",
      "Christian Aparicio                  9       9        10         8        9   \n",
      "Juan Rodriguez                      7      10        10        10       10   \n",
      "Andrés Camilo Gómez Amaya           9      10        10         5       10   \n",
      "Sebastian Mosquera                  7       6         7         8        8   \n",
      "Christian Castro                    9      10        10         1        5   \n",
      "Cristian guevara                   10       7        10         1        1   \n",
      "Isabella Pinzon                     8      10         7        10        5   \n",
      "Juan Bueno                          8       8         9         1        1   \n",
      "Nicolas Penagos                     3       8        10         5       10   \n",
      "\n",
      "                                Champiñón  Ciruela  Jalapeño  Maíz Tierno  \\\n",
      "Usuario                                                                     \n",
      "Tatiana Campos                          7        9         1            1   \n",
      "juan agredo                             9        1         8           10   \n",
      "Andrea Torrente                         5        2         1            8   \n",
      "Yajhaira Naranjo                        4        8         6           10   \n",
      "Juan Munera                             7        1         1            8   \n",
      "Valeria Jiménez                        10        5         5            1   \n",
      "Juan Andrés López                      10        4         8            4   \n",
      "Andres Felipe Narvaez Estrella          8        5         3           10   \n",
      "Luisa Tapiero                          10        1         6            7   \n",
      "Alejandro Medina                        7        1         1            6   \n",
      "NIcolas Orozco                          9        6        10           10   \n",
      "Christian Aparicio                     10        6         5           10   \n",
      "Juan Rodriguez                         10        6        10           10   \n",
      "Andrés Camilo Gómez Amaya              10        7        10            9   \n",
      "Sebastian Mosquera                     10        9         8            7   \n",
      "Christian Castro                        8        1         6            9   \n",
      "Cristian guevara                       10        1         3            7   \n",
      "Isabella Pinzon                         7        2         4            4   \n",
      "Juan Bueno                              6        1         1            2   \n",
      "Nicolas Penagos                         5        1        10           10   \n",
      "\n",
      "                                Orégano  Pimentón  Piña  Tomate  \n",
      "Usuario                                                          \n",
      "Tatiana Campos                       10         9    10      10  \n",
      "juan agredo                           8         8     9       9  \n",
      "Andrea Torrente                       4         1    10       8  \n",
      "Yajhaira Naranjo                      6         6     8      10  \n",
      "Juan Munera                          10         5    10       5  \n",
      "Valeria Jiménez                      10        10     1      10  \n",
      "Juan Andrés López                    10         3    10       7  \n",
      "Andres Felipe Narvaez Estrella        8         6    10      10  \n",
      "Luisa Tapiero                        10         1     5      10  \n",
      "Alejandro Medina                      8         1     2      10  \n",
      "NIcolas Orozco                        7         9     8       7  \n",
      "Christian Aparicio                   10        10     7       9  \n",
      "Juan Rodriguez                       10        10     7       7  \n",
      "Andrés Camilo Gómez Amaya             9        10    10       9  \n",
      "Sebastian Mosquera                   10         9    10       8  \n",
      "Christian Castro                     10         8     6       8  \n",
      "Cristian guevara                      5         6     8       9  \n",
      "Isabella Pinzon                      10         6     8       7  \n",
      "Juan Bueno                            9         3     7       7  \n",
      "Nicolas Penagos                       8         3     2       1  \n"
     ]
    }
   ],
   "source": [
    "data = pd.read_csv('base de datos de pizza.csv', index_col=0)\n",
    "print(data)"
   ]
  },
  {
   "cell_type": "code",
   "execution_count": 161,
   "id": "596be790",
   "metadata": {},
   "outputs": [],
   "source": [
    "user_dropdown = widgets.Dropdown(\n",
    "    options=data.index,\n",
    "    value=data.index[0],\n",
    "    description='Usuario:'\n",
    ")"
   ]
  },
  {
   "cell_type": "code",
   "execution_count": 162,
   "id": "3e0dc442",
   "metadata": {},
   "outputs": [],
   "source": [
    "def cosine_similarity(u, v):\n",
    "    return np.dot(u, v) / (np.linalg.norm(u) * np.linalg.norm(v))"
   ]
  },
  {
   "cell_type": "code",
   "execution_count": 163,
   "id": "17c73c0f",
   "metadata": {},
   "outputs": [],
   "source": [
    "def get_cosine_similarity_matrix(data):\n",
    "    n = len(data)\n",
    "    similarity_matrix = np.zeros((n, n))\n",
    "    for i in range(n):\n",
    "        for j in range(n):\n",
    "            similarity_matrix[i][j] = cosine_similarity(data.iloc[i], data.iloc[j])\n",
    "    return pd.DataFrame(similarity_matrix, index=data.index, columns=data.index)\n",
    "\n",
    "cosine_similarity_matrix = get_cosine_similarity_matrix(data)"
   ]
  },
  {
   "cell_type": "code",
   "execution_count": 164,
   "id": "343051e8",
   "metadata": {},
   "outputs": [],
   "source": [
    "k_neighbors = widgets.IntSlider(\n",
    "    value=5,\n",
    "    min=1,\n",
    "    max=len(data) - 1,\n",
    "    step=1,\n",
    "    description='Número de vecinos:',\n",
    "    orientation='horizontal'\n",
    ")"
   ]
  },
  {
   "cell_type": "code",
   "execution_count": 165,
   "id": "037cc85f",
   "metadata": {},
   "outputs": [],
   "source": [
    "def get_k_neighbors(user, k):\n",
    "    neighbors = cosine_similarity_matrix[user].sort_values(ascending=False)[1:k+1]\n",
    "    distances = neighbors.values\n",
    "    return neighbors, distances"
   ]
  },
  {
   "cell_type": "code",
   "execution_count": 166,
   "id": "aeccca49",
   "metadata": {},
   "outputs": [],
   "source": [
    "def show_k_neighbors():\n",
    "    user = user_dropdown.value\n",
    "    k = k_neighbors.value\n",
    "    neighbors, distances = get_k_neighbors(user, k)\n",
    "    print(f'Los {k} vecinos más cercanos al usuario {user} son:\\n{neighbors}')\n",
    "    print(f'Las distancias entre el usuario {user} y los {k} vecinos más cercanos son:\\n{distances}')\n",
    "\n",
    "show_button = widgets.Button(description='Mostrar')\n",
    "\n",
    "def on_show_button_clicked(button):\n",
    "    show_k_neighbors()\n",
    "\n",
    "show_button.on_click(on_show_button_clicked)"
   ]
  },
  {
   "cell_type": "code",
   "execution_count": 167,
   "id": "4a2401f8",
   "metadata": {},
   "outputs": [],
   "source": [
    "def plot_k_neighbors():\n",
    "    user = user_dropdown.value\n",
    "    k = k_neighbors.value\n",
    "    neighbors, _ = get_k_neighbors(user, k)\n",
    "    \n",
    "    plt.figure(figsize=(8, 6))\n",
    "    plt.barh(neighbors.index, neighbors.values)\n",
    "    plt.axvline(cosine_similarity_matrix[user].mean(), color='red', linestyle='--', label='Media')\n",
    "    plt.axvline(cosine_similarity_matrix[user].max(), color='green', linestyle='--', label='Máximo')\n",
    "    plt.axvline(cosine_similarity_matrix[user].min(), color='blue', linestyle='--', label='Mínimo')\n",
    "    plt.xlabel('Similitud coseno')\n",
    "    plt.ylabel('Usuario')\n",
    "    plt.title(f'Los {k} vecinos más cercanos al usuario {user}')\n",
    "    plt.legend()\n",
    "    plt.show()\n",
    "    \n",
    "plot_button = widgets.Button(description='Representar gráficamente')\n",
    "\n",
    "def on_plot_button_clicked(button):\n",
    "    plot_k_neighbors()\n",
    "    \n",
    "plot_button.on_click(on_plot_button_clicked)\n"
   ]
  },
  {
   "cell_type": "code",
   "execution_count": 168,
   "id": "989df533",
   "metadata": {},
   "outputs": [
    {
     "data": {
      "application/vnd.jupyter.widget-view+json": {
       "model_id": "71fb54c16785435facb589b9e5fd7b82",
       "version_major": 2,
       "version_minor": 0
      },
      "text/plain": [
       "Dropdown(description='Usuario:', options=('Tatiana Campos', 'juan agredo', 'Andrea Torrente', 'Yajhaira Naranj…"
      ]
     },
     "metadata": {},
     "output_type": "display_data"
    },
    {
     "data": {
      "application/vnd.jupyter.widget-view+json": {
       "model_id": "d95e330d94ce4e939da89521fab94f90",
       "version_major": 2,
       "version_minor": 0
      },
      "text/plain": [
       "IntSlider(value=5, description='Número de vecinos:', max=19, min=1)"
      ]
     },
     "metadata": {},
     "output_type": "display_data"
    },
    {
     "data": {
      "application/vnd.jupyter.widget-view+json": {
       "model_id": "35532bccfbfd4bb9ac2f00d7c1763c44",
       "version_major": 2,
       "version_minor": 0
      },
      "text/plain": [
       "Button(description='Mostrar', style=ButtonStyle())"
      ]
     },
     "metadata": {},
     "output_type": "display_data"
    },
    {
     "data": {
      "application/vnd.jupyter.widget-view+json": {
       "model_id": "222094ba3ff845dda6b1fa3515b0c7c8",
       "version_major": 2,
       "version_minor": 0
      },
      "text/plain": [
       "Button(description='Representar gráficamente', style=ButtonStyle())"
      ]
     },
     "metadata": {},
     "output_type": "display_data"
    },
    {
     "name": "stdout",
     "output_type": "stream",
     "text": [
      "Los 5 vecinos más cercanos al usuario Tatiana Campos son:\n",
      "Usuario\n",
      "Sebastian Mosquera           0.869433\n",
      "Valeria Jiménez              0.855447\n",
      "Isabella Pinzon              0.837826\n",
      "Andrés Camilo Gómez Amaya    0.834543\n",
      "Christian Aparicio           0.820591\n",
      "Name: Tatiana Campos, dtype: float64\n",
      "Las distancias entre el usuario Tatiana Campos y los 5 vecinos más cercanos son:\n",
      "[0.86943283 0.85544672 0.83782582 0.83454286 0.82059149]\n"
     ]
    },
    {
     "data": {
      "image/png": "[encoded data removed]",
      "text/plain": [
       "<Figure size 800x600 with 1 Axes>"
      ]
     },
     "metadata": {},
     "output_type": "display_data"
    }
   ],
   "source": [
    "display(user_dropdown)\n",
    "display(k_neighbors)\n",
    "display(show_button)\n",
    "\n",
    "display(plot_button)"
   ]
  }
 ],
 "metadata": {
  "kernelspec": {
   "display_name": "Python 3 (ipykernel)",
   "language": "python",
   "name": "python3"
  },
  "language_info": {
   "codemirror_mode": {
    "name": "ipython",
    "version": 3
   },
   "file_extension": ".py",
   "mimetype": "text/x-python",
   "name": "python",
   "nbconvert_exporter": "python",
   "pygments_lexer": "ipython3",
   "version": "3.9.13"
  }
 },
 "nbformat": 4,
 "nbformat_minor": 5
}
